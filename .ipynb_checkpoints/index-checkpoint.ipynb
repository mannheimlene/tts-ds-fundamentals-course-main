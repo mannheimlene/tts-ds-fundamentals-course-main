{
 "cells": [
  {
   "cell_type": "markdown",
   "metadata": {},
   "source": [
    "# [Table Of Contents](datascience/index.ipynb)\n",
    "### Data Science Fundamentals"
   ]
  },
  {
   "cell_type": "markdown",
   "metadata": {},
   "source": [
    "- - -\n",
    "# SAS versus Python versus R"
   ]
  },
  {
   "cell_type": "markdown",
   "metadata": {},
   "source": [
    "There has never been a conclusive answer to the question of which is better SAS vs R vs Python? All three technologies have situations where they excel while lacking in some. What tool one chooses should be based on the person’s requirements. See the comparisons based on the following points:\n",
    "\n",
    "- Ease of learning\n",
    "- Data handling ability\n",
    "- Data visualization\n",
    "- Cost-effectiveness\n",
    "- Customer service and community support\n",
    "- Updates\n",
    "- Market demand"
   ]
  },
  {
   "cell_type": "markdown",
   "metadata": {},
   "source": [
    "[![alt text](files/sas-python-r.png \"SAS-Python-R\")](https://insights.naukri.com/career-tools/skills-trends/demand-for-sas-vs-r)"
   ]
  },
  {
   "cell_type": "markdown",
   "metadata": {},
   "source": [
    "- - -\n",
    "1. <b>Ease of Learning</b>\n",
    "\n",
    "SAS is probably the easiest to learn of all three. It has a good GUI that makes it even easier to learn and use. To effectively use SAS, one needs to know SQL beforehand.\n",
    "\n",
    "R has the steepest learning curve among these. It is a low-level language, so it requires more code for simpler tasks. Without prior knowledge of effective coding practices, the code can be even messier and longer to accomplish the simplest of tasks.\n",
    "\n",
    "Python is known for its flexibility and simplicity. It doesn’t have a widespread GUI, but Python notebooks are popular. Python is a high level, object-oriented language, and is easier to learn than R.\n",
    "\n",
    "When it comes to learning, SAS is the easiest to learn, followed by Python and R.\n"
   ]
  },
  {
   "cell_type": "markdown",
   "metadata": {},
   "source": [
    "- - -\n",
    "2. <b>Data Handling Ability</b>\n",
    "\n",
    "Data is increasing in size and complexity every day. A data science tool must be able to store and organize large amounts of data effectively.\n",
    "\n",
    "SAS is smooth and stable when it comes to handling data on stand-alone machines.\n",
    "\n",
    "R works only on RAM, this makes working with large datasets very slow. It does have packages like plyr and Dplyr that make data handling much easier in R. We can also integrate R with Hadoop, which makes distributed data storage and processing possible.\n",
    "\n",
    "Python has libraries like Panda and NumPy that make data handling extremely easy.\n",
    "\n",
    "As base packages or with added extensions, all three can handle large data effectively.\n"
   ]
  },
  {
   "cell_type": "markdown",
   "metadata": {},
   "source": [
    "- - -\n",
    "3. <b>Data Visualization</b>\n",
    "\n",
    "SAS can plot graphs and render basic graphs, but its data visualization capabilities are merely functional.\n",
    "\n",
    "R excels at data visualization with packages like ggplot2, plotly, Rvis, Rgis, etc.. It is the best tool for data visualization.\n",
    "\n",
    "Python has extensions like matplotlib and seaborn that make creating custom graphs easy.\n",
    "\n",
    "R is the clear winner for data visualization."
   ]
  },
  {
   "cell_type": "markdown",
   "metadata": {},
   "source": [
    "- - -\n",
    "4. <b>Cost-Effectiveness</b>\n",
    "\n",
    "SAS is proprietary software. It is highly expensive and out-of-reach for individuals and small and medium-sized organizations. While there is a free university edition available, it has limited features.\n",
    "\n",
    "R is open-source. Anyone can use it and contribute to it. Many startups and large-scale organizations as well, use R.\n",
    "\n",
    "Python is also an open-source language. Students, as well as professionals, can use it for free.\n",
    "\n",
    "R and Python being open-source have an advantage over SAS in terms of cost-effectiveness."
   ]
  },
  {
   "cell_type": "markdown",
   "metadata": {},
   "source": [
    "- - -\n",
    "5. <b>Customer service and Community Support</b>\n",
    "\n",
    "SAS has dedicated customer support that helps with all issues about installation and usage. However, due to its cost, the community is not that large.\n",
    "\n",
    "R does not have a dedicated customer service team, but it does have a massive community. The R community has people from almost all industries and from all over the world. A solution for any issue can be provided by the large community.\n",
    "\n",
    "Python is also open-source, and therefore, it also has a large community. However, Python’s popularity has increased in recent years and, thus, the community is not as large as R’s.\n",
    "\n",
    "While SAS may have dedicated customer support, it’s community pales in comparison with that of R’s pr Python’s."
   ]
  },
  {
   "cell_type": "markdown",
   "metadata": {},
   "source": [
    "- - -\n",
    "6. <b>Updates</b>\n",
    "\n",
    "SAS only gets updated at every new version rollout. However, the SAS team includes new features after thorough testing, and they have almost no errors.\n",
    "\n",
    "R and Python are open-source. Anybody can add new features with new packages and extensions. They receive the latest updates faster.\n",
    "\n",
    "R and Python get the latest updates much faster, and anybody can contribute towards it."
   ]
  },
  {
   "cell_type": "markdown",
   "metadata": {},
   "source": [
    "- - -\n",
    "7. <b>Market Demand</b>\n",
    "\n",
    "While SAS was the global leader in available corporate jobs in data analytics earlier. The scenario has changed in recent years. More and more companies are opting for open-source technologies creating more job openings for people with skills like R and Python. Large corporations like Ford use R along with Hadoop for data analysis. They require professionals with skills in such technologies.\n",
    "\n",
    "Apart from data science, web and software development industries also use Python and hire professionals with skills in it.\n",
    "\n",
    "SAS was a global leader in corporate jobs for data analysis. But now, the open-source technologies have taken over. We expect the job opportunities for R and Python to keep increasing."
   ]
  },
  {
   "cell_type": "code",
   "execution_count": null,
   "metadata": {},
   "outputs": [],
   "source": []
  }
 ],
 "metadata": {
  "kernelspec": {
   "display_name": "Python 3 (ipykernel)",
   "language": "python",
   "name": "python3"
  },
  "language_info": {
   "codemirror_mode": {
    "name": "ipython",
    "version": 3
   },
   "file_extension": ".py",
   "mimetype": "text/x-python",
   "name": "python",
   "nbconvert_exporter": "python",
   "pygments_lexer": "ipython3",
   "version": "3.9.7"
  }
 },
 "nbformat": 4,
 "nbformat_minor": 4
}
